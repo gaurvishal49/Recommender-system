{
 "cells": [
  {
   "cell_type": "markdown",
   "metadata": {
    "colab_type": "text",
    "id": "_BtqXNM8z8_d"
   },
   "source": [
    "\n",
    "\n",
    "# NEWS RECOMMENDER SYSTEM\n"
   ]
  },
  {
   "cell_type": "markdown",
   "metadata": {
    "colab_type": "text",
    "id": "kZdIWkSK0Zzj"
   },
   "source": [
    "## Project Outline\n",
    "\n",
    "\n",
    "---\n",
    "\n",
    "\n",
    "\n",
    "\n",
    "\n",
    "*   Cleaning of the news articles\n",
    "*   Tackling cold-start problem for new users\n",
    "*   Generation of clickstream data\n",
    "*   Content based recommendation system\n",
    "*   Collaborative filtering based recommender system"
   ]
  },
  {
   "cell_type": "markdown",
   "metadata": {
    "colab_type": "text",
    "id": "ozW-Vdy31wN7"
   },
   "source": [
    "Importing all the necessary libraries which will be needed in future.\n"
   ]
  },
  {
   "cell_type": "code",
   "execution_count": 7,
   "metadata": {
    "colab": {
     "base_uri": "https://localhost:8080/",
     "height": 52
    },
    "colab_type": "code",
    "id": "hnHRXa0VGVoE",
    "outputId": "d4ab4da1-fba0-4cd9-bb88-e3e47d17d171"
   },
   "outputs": [
    {
     "name": "stderr",
     "output_type": "stream",
     "text": [
      "[nltk_data] Downloading package punkt to /home/vishal/nltk_data...\n",
      "[nltk_data]   Package punkt is already up-to-date!\n",
      "[nltk_data] Downloading package wordnet to /home/vishal/nltk_data...\n",
      "[nltk_data]   Unzipping corpora/wordnet.zip.\n"
     ]
    }
   ],
   "source": [
    "try:\n",
    "    import numpy as np\n",
    "    import pandas as pd\n",
    "    import csv\n",
    "    import random\n",
    "    import matplotlib.pyplot as plt\n",
    "    import pickle as pk\n",
    "    import seaborn as sns\n",
    "    import matplotlib.pyplot as plt\n",
    "    from sklearn.feature_extraction.text import TfidfVectorizer\n",
    "    from sklearn.metrics.pairwise import cosine_similarity\n",
    "    from sklearn.decomposition import TruncatedSVD\n",
    "    from sklearn.metrics import silhouette_score\n",
    "    from sklearn.cluster import KMeans\n",
    "    import re\n",
    "    from sklearn.metrics.pairwise import linear_kernel \n",
    "    import string\n",
    "    from nltk.stem.snowball import SnowballStemmer\n",
    "    from nltk.corpus import stopwords\n",
    "    from nltk.stem import WordNetLemmatizer\n",
    "    from nltk.stem.snowball import SnowballStemmer\n",
    "    from nltk.stem.wordnet import WordNetLemmatizer\n",
    "    import nltk\n",
    "    nltk.download('punkt')\n",
    "    nltk.download('wordnet')\n",
    "    stemmer = SnowballStemmer(\"english\")\n",
    "except ImportError:\n",
    "    print('You are missing some packages! ' \\\n",
    "          'We will try installing them before continuing!')\n",
    "    !pip install \"numpy\" \"pandas\" \"sklearn\" \"nltk\"\n",
    "    import numpy\n",
    "    import pandas as pd\n",
    "    import pickle as pk\n",
    "    import seaborn as sns\n",
    "    import matplotlib.pyplot as plt\n",
    "    from sklearn.feature_extraction.text import TfidfVectorizer\n",
    "    from sklearn.metrics.pairwise import cosine_similarity\n",
    "    import re\n",
    "    from nltk.stem.snowball import SnowballStemmer\n",
    "    import nltk\n",
    "    stemmer = SnowballStemmer(\"english\")\n",
    "    print('Done!')"
   ]
  },
  {
   "cell_type": "code",
   "execution_count": 2,
   "metadata": {
    "colab": {},
    "colab_type": "code",
    "id": "CsQzs0Ax2vJP"
   },
   "outputs": [],
   "source": [
    "# This part is done to prevent appearance of any future warnings \n",
    "# Import warnings filter\n",
    "from warnings import simplefilter\n",
    "# Ignore all future warnings\n",
    "simplefilter(action='ignore', category=FutureWarning)\n",
    "\n",
    "import warnings\n",
    "warnings.filterwarnings(\"ignore\",category=DeprecationWarning)"
   ]
  },
  {
   "cell_type": "markdown",
   "metadata": {
    "colab_type": "text",
    "id": "JgVCtR58H203"
   },
   "source": [
    "# News Corpus Data Cleaning\n",
    "\n",
    "In this section we will clean all the documents. We will do the following cleaning processes:\n",
    "* remove punctuations\n",
    "* remove numbers \n",
    "* remove stopwords\n",
    "* remove single characters\n",
    "* lemmatization\n"
   ]
  },
  {
   "cell_type": "code",
   "execution_count": 3,
   "metadata": {},
   "outputs": [],
   "source": [
    "news_articles = pd.read_csv('news_articles.csv')\n",
    "article_ids = list(news_articles['Article_id'])\n",
    "Articles = news_articles['Headline'].values"
   ]
  },
  {
   "cell_type": "code",
   "execution_count": 4,
   "metadata": {},
   "outputs": [],
   "source": [
    "stop = set(stopwords.words('english'))\n",
    "exclude = set(string.punctuation)\n",
    "lemma = WordNetLemmatizer()\n",
    "stemmer = SnowballStemmer(\"english\")\n",
    "lemmatizer = WordNetLemmatizer()"
   ]
  },
  {
   "cell_type": "code",
   "execution_count": 5,
   "metadata": {},
   "outputs": [],
   "source": [
    "def clean_tokenize(document):\n",
    "    docs = re.sub('[^\\w_\\s-]', ' ',document)#removes strigs, full stop\n",
    "    doc = re.sub('\\d|\\d+', ' ',docs)#remove math digits\n",
    "    stop_free = \" \".join([stop_word for stop_word in doc.lower().split() if stop_word not in stop])#remove stop words and make lower case\n",
    "    punc_free = ''.join(punc for punc in stop_free if punc not in exclude)#remove punctuations\n",
    "    tokens = nltk.word_tokenize(punc_free)#make tokens\n",
    "    cleaned_article = ' '.join([lemmatizer.lemmatize(item) for item in tokens])\n",
    "    #cleaned_article = ' '.join([stemmer.stem(item) for item in tokens])#stemming of tokens\n",
    "    return(cleaned_article)"
   ]
  },
  {
   "cell_type": "markdown",
   "metadata": {
    "colab_type": "text",
    "id": "RyQuHjhnHgf-"
   },
   "source": [
    "# The Cold Start Problem"
   ]
  },
  {
   "cell_type": "markdown",
   "metadata": {
    "colab_type": "text",
    "id": "wmA9ZAzJq9fs"
   },
   "source": [
    "\n",
    "*  We plan to solve it by giving diverse set of articles to users.\n",
    "*  we will first generate TF-IDF matrix of entire corpus\n",
    "*  Then, used SVD to reduce dimentionality of the tfidf matrix\n",
    "*  Silhouette score is calculated to find the optimal number of clusters in k means clustering\n",
    "*  Then we will recommend articles from these clusters"
   ]
  },
  {
   "cell_type": "markdown",
   "metadata": {
    "colab_type": "text",
    "id": "kbT67MiVOZxh"
   },
   "source": [
    "**1. Generate tfidf matrix model for entire corpus**"
   ]
  },
  {
   "cell_type": "code",
   "execution_count": 8,
   "metadata": {
    "colab": {
     "base_uri": "https://localhost:8080/",
     "height": 53
    },
    "colab_type": "code",
    "id": "vcGtDJH6q8bw",
    "outputId": "19ee52d9-34cb-45db-8035-dd44a6445608"
   },
   "outputs": [
    {
     "data": {
      "text/plain": [
       "<10058x13989 sparse matrix of type '<class 'numpy.float64'>'\n",
       "\twith 260621 stored elements in Compressed Sparse Row format>"
      ]
     },
     "execution_count": 8,
     "metadata": {},
     "output_type": "execute_result"
    }
   ],
   "source": [
    "cleaned_articles = list(map(clean_tokenize, Articles))\n",
    "tfidf_matrix = TfidfVectorizer(stop_words='english', min_df=2)\n",
    "article_tfidf_matrix = tfidf_matrix.fit_transform(cleaned_articles)\n",
    "terms = tfidf_matrix.get_feature_names()\n",
    "article_tfidf_matrix #tfidf vector of an article"
   ]
  },
  {
   "cell_type": "markdown",
   "metadata": {
    "colab_type": "text",
    "id": "bOSeey9TOVub"
   },
   "source": [
    "**2. Using SVD to reduce dimentionality of the tfidf matrix**"
   ]
  },
  {
   "cell_type": "code",
   "execution_count": 9,
   "metadata": {
    "colab": {},
    "colab_type": "code",
    "id": "nik5BL5nqrZ5"
   },
   "outputs": [],
   "source": [
    "svd = TruncatedSVD(n_components=100,random_state=9)\n",
    "vector_matrix = svd.fit_transform(article_tfidf_matrix)"
   ]
  },
  {
   "cell_type": "markdown",
   "metadata": {},
   "source": [
    "**3. Evaluation method - Silhouette score to find the optimal number of clusters in k means clustering**"
   ]
  },
  {
   "cell_type": "code",
   "execution_count": 11,
   "metadata": {},
   "outputs": [
    {
     "name": "stdout",
     "output_type": "stream",
     "text": [
      "16\n"
     ]
    },
    {
     "data": {
      "image/png": "[encoded data removed]",
      "text/plain": [
       "<Figure size 432x288 with 1 Axes>"
      ]
     },
     "metadata": {},
     "output_type": "display_data"
    }
   ],
   "source": [
    "range_n_clusters = list (range(10,20))\n",
    "x=[]\n",
    "y=[]\n",
    "for n_clusters in range_n_clusters:\n",
    "    clusterer = KMeans(n_clusters=n_clusters,init='k-means++',max_iter=300,n_init=10,random_state=9)\n",
    "    preds = clusterer.fit_predict(vector_matrix)\n",
    "    centers = clusterer.cluster_centers_\n",
    "\n",
    "    score = silhouette_score(vector_matrix, preds)\n",
    "    #print(\"For n_clusters = {}, silhouette score is {})\".format(n_clusters, score))\n",
    "    x.append(n_clusters)\n",
    "    y.append(score)\n",
    "n_clusters=x[y.index(max(y))]\n",
    "print(n_clusters) #to print cluster number with max silhouette score\n",
    "\n",
    "plt.plot(x, y) \n",
    "plt.xlabel('number of clusters (k)')  \n",
    "plt.ylabel('Silhouette score') \n",
    "plt.title('Silhouette score for Kmeans clustering')\n",
    "plt.savefig('k-means_silhouetter_score.png',facecolor='w',edgecolor='w', transparent=False)\n",
    "plt.show() "
   ]
  },
  {
   "cell_type": "markdown",
   "metadata": {
    "colab_type": "text",
    "id": "LnJODZxjOkHh"
   },
   "source": [
    "**4. Fitting K-Means to the dataset**"
   ]
  },
  {
   "cell_type": "code",
   "execution_count": 12,
   "metadata": {
    "colab": {},
    "colab_type": "code",
    "id": "mlAbVeNp1mtI"
   },
   "outputs": [],
   "source": [
    "n_clusters=16\n",
    "kmeans = KMeans(n_clusters = n_clusters, init = 'k-means++', random_state = 42)\n",
    "y_kmeans = kmeans.fit_predict(vector_matrix)\n",
    "kmeans_fit=kmeans.fit(vector_matrix)"
   ]
  },
  {
   "cell_type": "code",
   "execution_count": 13,
   "metadata": {
    "colab": {
     "base_uri": "https://localhost:8080/",
     "height": 446
    },
    "colab_type": "code",
    "id": "_yVwgjOhCJlg",
    "outputId": "e9c37ab3-a837-4517-ec23-b32210bce7d3"
   },
   "outputs": [
    {
     "data": {
      "image/png": "[encoded data removed]",
      "text/plain": [
       "<Figure size 504x360 with 1 Axes>"
      ]
     },
     "metadata": {},
     "output_type": "display_data"
    }
   ],
   "source": [
    "kmeans_df = pd.DataFrame()\n",
    "kmeans_df['kmeans_clusters'] = kmeans.fit(vector_matrix).labels_\n",
    "#label=kmeans.fit(vec_matrix_pca).labels_\n",
    "fig, ax = plt.subplots(figsize=(7,5))\n",
    "sns.countplot(x= 'kmeans_clusters', data=kmeans_df,ax=ax)\n",
    "ax.set_xticklabels(ax.get_xticklabels(), rotation=45)\n",
    "plt.savefig('cluster.png',facecolor='w',edgecolor='w', transparent=False)"
   ]
  },
  {
   "cell_type": "markdown",
   "metadata": {
    "colab_type": "text",
    "id": "_EOggnElThXV"
   },
   "source": [
    "**5. Recommend diverse articles from the clusters**"
   ]
  },
  {
   "cell_type": "code",
   "execution_count": 14,
   "metadata": {
    "colab": {
     "base_uri": "https://localhost:8080/",
     "height": 35
    },
    "colab_type": "code",
    "id": "r0QSuTnfaF0b",
    "outputId": "028f1f02-7f9d-4d2c-b368-919bf4ccd58d"
   },
   "outputs": [],
   "source": [
    "def recommend_diverse_articles():\n",
    "  l=[]\n",
    "  recommend=[]\n",
    "  cluster_label=np.array(kmeans_fit.labels_)\n",
    "  for i in range(n_clusters):\n",
    "    b=np.where(cluster_label==i)\n",
    "    c=random.choice(b[0])\n",
    "    recommend.append(c)\n",
    "  for i in range(10-n_clusters):\n",
    "    f=random.choice(range(1,len(cleaned_articles)))\n",
    "    if f not in recommend:\n",
    "      recommend.append(f)\n",
    "  #print(recommend)\n",
    "  #for i in range(len(recommend)):\n",
    "    #print('Article %d : ' % (i+1) , news_articles['Headline'][recommend[i]])\n",
    "  return recommend"
   ]
  },
  {
   "cell_type": "markdown",
   "metadata": {
    "colab_type": "text",
    "id": "wG8WZaLkSw_6"
   },
   "source": [
    "# Clickstream data\n",
    "\n",
    "* We generate three types of users as per our assumptions.\n",
    "* We serve diverse articles to all users in session #1\n",
    "* from next sessions it serves random articles to new users and personalized articles to repeat users.\n",
    "* Clickstream data is stored in a csv file for further use.\n",
    "\n"
   ]
  },
  {
   "cell_type": "code",
   "execution_count": 15,
   "metadata": {
    "colab": {},
    "colab_type": "code",
    "id": "3FwilFdEctPo"
   },
   "outputs": [],
   "source": [
    "class Click_data:\n",
    "    \n",
    "    def __init__(self,article_ids,num_of_users):\n",
    "        self.bounce_users_ids=[]\n",
    "        self.one_time_users_ids=[]\n",
    "        self.regular_users_ids=[]\n",
    "        self.user_ids = []\n",
    "        self.user_articles = {}\n",
    "        self.clickstream = {}\n",
    "        self.article_ids = article_ids\n",
    "        self.num_of_users = num_of_users\n",
    "        self.fields = ['user id','session id','article id' ,'click','ratings','time spent', 'user type']\n",
    "        csvfile = open('clickstream.csv', 'w')\n",
    "        csvwriter = csv.writer(csvfile)\n",
    "        csvwriter.writerow(self.fields)\n",
    "        csvfile.close()\n",
    "\n",
    "    def gen_new_users(self):\n",
    "        self.bounce_users_ids=[]\n",
    "        self.one_time_users_ids=[]\n",
    "        #self.user_articles = {}\n",
    "        #assign randomly ids to various users types\n",
    "        for i in range(int(self.num_of_users*0.25)):\n",
    "            r = random.randint(1000000,9999999)\n",
    "\n",
    "            while r in self.user_ids:                               \n",
    "                r = random.randint(1000000,9999999) \n",
    "                \n",
    "            self.user_ids.append(r)          #to keep track of all the users\n",
    "            self.bounce_users_ids.append(r)   #to keep track of bounce users\n",
    "            #self.user_articles[r] = random.choices(self.article_ids,k=10) #random 10 articles assigned for now\n",
    "            self.user_articles[r] = recommend_diverse_articles()\n",
    "            \n",
    "        for i in range(int(self.num_of_users*0.50)):\n",
    "            r = random.randint(1000000,9999999)\n",
    "            while r in self.user_ids:\n",
    "                r = random.randint(1000000,9999999)\n",
    "            self.user_ids.append(r)          #to keep track of all the users\n",
    "            self.one_time_users_ids.append(r) #one time users\n",
    "            \n",
    "            # diverse articles recommender - kmeans : add over here\n",
    "            #self.user_articles[r] = random.choices(self.article_ids,k=10)\n",
    "            self.user_articles[r] = recommend_diverse_articles()\n",
    "    \n",
    "    def gen_regular_users(self):\n",
    "        #These are regular users we dont have to generate them in every iteration of new session\n",
    "        for i in range(int(self.num_of_users*0.25)):\n",
    "            r = random.randint(1000000,9999999)\n",
    "            while r in self.user_ids:\n",
    "                r = random.randint(1000000,9999999)\n",
    "            self.user_ids.append(r)          #to keep track of all the users\n",
    "            self.regular_users_ids.append(r) #repeat users\n",
    "            #self.user_articles[r] = random.choices(self.article_ids,k=10)\n",
    "            self.user_articles[r] = recommend_diverse_articles()\n",
    "\n",
    "    def regular_users(self):\n",
    "      # add recommender system in this code.... \n",
    "      for r in self.regular_users_ids:\n",
    "        #self.user_articles[r] = random.choices(self.article_ids,k=10)\n",
    "        self.user_articles[r] = recommend(r,10)\n",
    "\n",
    "\n",
    "    # a function to generate clickstream \n",
    "    def gen_clickstream(self,session_id):\n",
    "      \n",
    "      if(session_id == 1):\n",
    "        self.gen_new_users()\n",
    "        self.gen_regular_users()  #need to generate only once\n",
    "\n",
    "      else:\n",
    "        self.gen_new_users()\n",
    "        self.regular_users()\n",
    "\n",
    "      self.clickstream = {}\n",
    "      timespend_type1 = np.random.normal(0,0,int(self.num_of_users*0.25))               # no clicks or reads\n",
    "\n",
    "      mean2 = [100,3]\n",
    "      cov2 = [[600.  ,21.35714286],\n",
    "        [ 21.35714286 ,0.77267857]]\n",
    "\n",
    "      timespend_type2 = [np.random.multivariate_normal(mean2, cov2,random.choices([1,2,3],[0.7,0.2,0.1])) for i in range(int(self.num_of_users*0.50))]\n",
    "\n",
    "      mean3 = [180,3]\n",
    "      cov3 =  [[1.22142857e+03, 2.28928571e+01],\n",
    "              [2.28928571e+01, 4.41250000e-01]]\n",
    "      timespend_type3 = [np.random.multivariate_normal(mean3, cov3,random.choices([1,2,3,4],[0.4,0.3,0.2,0.1])) for i in range(int(self.num_of_users*0.25))]\n",
    "\n",
    "\n",
    "      for i in range(len(self.bounce_users_ids)):\n",
    "          self.clickstream[self.bounce_users_ids[i]] = [[session_id,random.choice(self.user_articles[self.bounce_users_ids[i]]),'no','0',timespend_type1[i],'bounce']] \n",
    "\n",
    "      for i in range(len(self.one_time_users_ids)):\n",
    "          temp = []\n",
    "          for j in timespend_type2[i]:\n",
    "              temp.append([session_id,random.choice(self.user_articles[self.one_time_users_ids[i]]),'yes',round(j[1]),round(j[0]),'one time'])\n",
    "          self.clickstream[self.one_time_users_ids[i]] = temp\n",
    "\n",
    "      for i in range(len(self.regular_users_ids)):\n",
    "          temp = []\n",
    "          for j in timespend_type3[i]:\n",
    "              temp.append([session_id,random.choice(self.user_articles[self.regular_users_ids[i]]),'yes',round(j[1]),round(j[0]),'regular'])\n",
    "          self.clickstream[self.regular_users_ids[i]] = temp\n",
    "\n",
    "      with open('clickstream.csv', 'a') as csvfile: \n",
    "        csvwriter = csv.writer(csvfile)\n",
    "        for i in list(self.clickstream.keys()):\n",
    "            for j in self.clickstream[i]:\n",
    "                # writing the data rows \n",
    "                j.insert(0,i)\n",
    "                csvwriter.writerow(j)\n",
    "        clickstream_data = pd.read_csv('clickstream.csv')\n",
    "      return clickstream_data\n"
   ]
  },
  {
   "cell_type": "code",
   "execution_count": 16,
   "metadata": {
    "colab": {},
    "colab_type": "code",
    "id": "VoOLVKdmeQKS"
   },
   "outputs": [],
   "source": [
    "f=Click_data(article_ids,1000) #give article ids and number of users\n",
    "clickstream_data=f.gen_clickstream(1) #1 represent session id"
   ]
  },
  {
   "cell_type": "markdown",
   "metadata": {
    "colab_type": "text",
    "id": "_Xzg-1Y4PP9A"
   },
   "source": [
    "## Visualization of user clickstream after session 1"
   ]
  },
  {
   "cell_type": "code",
   "execution_count": 17,
   "metadata": {
    "colab": {
     "base_uri": "https://localhost:8080/",
     "height": 367
    },
    "colab_type": "code",
    "id": "vfLyaRHqvDIX",
    "outputId": "bd7a0a8e-f927-41d2-e4e0-19dc76baa62d",
    "scrolled": true
   },
   "outputs": [
    {
     "name": "stderr",
     "output_type": "stream",
     "text": [
      "No handles with labels found to put in legend.\n"
     ]
    },
    {
     "data": {
      "image/png": "[encoded data removed]",
      "text/plain": [
       "<Figure size 576x360 with 3 Axes>"
      ]
     },
     "metadata": {},
     "output_type": "display_data"
    }
   ],
   "source": [
    "sns.set(context='talk')\n",
    "\n",
    "#add a column for the type of user\n",
    "ids = list(clickstream_data['user id'])\n",
    "\n",
    "#plot and save the multi-variate distribution\n",
    "g = sns.jointplot(x=\"ratings\", y=\"time spent\", data=clickstream_data, kind=\"kde\")\n",
    "g.plot_joint(sns.scatterplot, data=clickstream_data, hue = 'user type',alpha=0.2)\n",
    "g.ax_joint.collections[0].set_alpha(0)\n",
    "g.set_axis_labels(\"Ratings\", \"Time Spent on each article\")\n",
    "g.fig.set_figwidth(8)\n",
    "g.fig.set_figheight(5)\n",
    "plt.legend(loc='lower right',framealpha=0)\n",
    "plt.savefig('clickstream.png',facecolor='w',edgecolor='w', transparent=False)\n",
    "plt.show()"
   ]
  },
  {
   "cell_type": "markdown",
   "metadata": {},
   "source": [
    "# Content based recommender"
   ]
  },
  {
   "cell_type": "code",
   "execution_count": 18,
   "metadata": {},
   "outputs": [],
   "source": [
    "user_data = pd.read_csv('clickstream.csv')\n",
    "cosine_similarities = linear_kernel(article_tfidf_matrix, article_tfidf_matrix) \n",
    "results = {}\n",
    "for idx, row in news_articles.iterrows():\n",
    "   similar_indices = cosine_similarities[idx].argsort()[:-100:-1] \n",
    "   similar_items = [(cosine_similarities[idx][i], news_articles['Article_id'][i]) for i in similar_indices] \n",
    "   results[row['Article_id']] = similar_items[1:]\n",
    "\n",
    "news_articles = pd.read_csv('news_articles.csv')\n",
    "article_ids = list(news_articles['Article_id'])\n",
    "Articles = news_articles['Headline'].values"
   ]
  },
  {
   "cell_type": "code",
   "execution_count": 19,
   "metadata": {},
   "outputs": [],
   "source": [
    "def item(id):  \n",
    "  return news_articles.loc[news_articles['Article_id'] == id]['Headline'].tolist()[0].split(' - ')[0] \n",
    "# Just reads the results out of the dictionary.def \n",
    "def recommend(user_id, num):\n",
    "    ids = user_data['user id'].values\n",
    "    i = np.where(ids == user_id)[0][0]\n",
    "    item_id = user_data['article id'].values[i,]\n",
    "    L = []\n",
    "    for rec in results[item_id][:num]:\n",
    "        L.append(rec[1])\n",
    "    return L"
   ]
  },
  {
   "cell_type": "code",
   "execution_count": 20,
   "metadata": {},
   "outputs": [],
   "source": [
    "#generating clickstream data for next session using tfidf recommender\n",
    "for i in range(2,9):\n",
    "  f.gen_clickstream(i) #sessions 2 to 8"
   ]
  },
  {
   "cell_type": "markdown",
   "metadata": {
    "colab_type": "text",
    "id": "xURSorl-oPPl"
   },
   "source": [
    "# Collaborative filtering based recommender system"
   ]
  },
  {
   "cell_type": "markdown",
   "metadata": {
    "colab_type": "text",
    "id": "sZno5dV3LnFL"
   },
   "source": [
    "**Collaborative filtering based on user similarity score**\n",
    "\n",
    " *  created a users vs document rating matrix\n",
    " *  use it to find the cosine similarity between different users\n",
    " *  We estimate the unknown rating by taking weighted average and then recommend 10 articles based on the estimated ratings.\n"
   ]
  },
  {
   "cell_type": "code",
   "execution_count": 33,
   "metadata": {
    "colab": {},
    "colab_type": "code",
    "id": "0R0pmO97jOl9"
   },
   "outputs": [],
   "source": [
    "user_data = pd.read_csv('clickstream.csv')\n",
    "class Collaborative_Cosine_Similarity_Recommender():\n",
    "    MODEL_NAME = 'CCSR'\n",
    "    def __init__(self,article_tfidf_matrix,user_data,news_articles,cleaned_articles):\n",
    "        self.article_tfidf_matrix = article_tfidf_matrix\n",
    "        self.user_id = list(set(user_data['user id']))\n",
    "        self.user_data = user_data.set_index('user id')\n",
    "        self.news_articles = news_articles\n",
    "        self.cleaned_articles = np.array(cleaned_articles)\n",
    "        self.number_of_recommendations = 10\n",
    "        self.article_ids = list(set(self.news_articles['Article_id']))\n",
    "        self.rat_matrix = np.zeros((len(self.user_id),len(article_ids)))      \n",
    "        self.k_nearest_users = 10\n",
    "        \n",
    "    def interacted_ids(self,userid):      \n",
    "      article_ids = self.user_data.loc[userid]['article id']\n",
    "      ratings_given = self.user_data.loc[userid]['ratings']\n",
    "      if isinstance(article_ids, (np.int64)):\n",
    "        article_ids = [article_ids]\n",
    "        ratings_given = [ratings_given]\n",
    "      else:\n",
    "        article_ids = list(article_ids)\n",
    "        ratings_given = list(ratings_given)\n",
    "      return article_ids, ratings_given\n",
    "    \n",
    "    def news_articles_id(self,articles_read_ids):\n",
    "      article_read_ind = []\n",
    "      for id in articles_read_ids:\n",
    "        article_read_ind.append(np.where(self.news_articles['Article_id'] == id)[0][0])\n",
    "      return article_read_ind\n",
    "\n",
    "    def rating_mat_update(self):\n",
    "      for ind in range(len(self.user_id)):\n",
    "        articles_read_ids, ratings = self.interacted_ids(user_id[ind])\n",
    "        articles_read_ind = self.news_articles_id(articles_read_ids)\n",
    "        self.rat_matrix[ind][articles_read_ind] = ratings\n",
    "\n",
    "    def recommend_articles(self,userid):\n",
    "      uid = np.where(userid == np.array(self.user_id))[0][0]\n",
    "      self.rating_mat_update()\n",
    "      user_similarity_score = cosine_similarity(self.rat_matrix, self.rat_matrix[uid].reshape(1,self.rat_matrix.shape[-1])).flatten()\n",
    "      similar_user_ind = np.argsort(user_similarity_score)[::-1][1:self.number_of_recommendations+1]\n",
    "\n",
    "      for ir in range(self.rat_matrix.shape[-1]):\n",
    "        tot = 0\n",
    "        num = 0\n",
    "        for ik in range(self.k_nearest_users):\n",
    "          num+=user_similarity_score[similar_user_ind[ik]]*self.rat_matrix[similar_user_ind[ik]][ir]\n",
    "          tot+=user_similarity_score[similar_user_ind[ik]]\n",
    "        if(tot != 0):\n",
    "          self.rat_matrix[uid][ir] = num/tot\n",
    "      recommended_articles_ind = np.argsort(self.rat_matrix[uid])[::-1]\n",
    "      recommended_articles_id = np.array(news_articles['Article_id'])[recommended_articles_ind]\n",
    "      final_recommended_articles_ind = [np.where(article_id == news_articles['Article_id'])[0][0] for article_id in recommended_articles_id][:self.number_of_recommendations]\n",
    "      return recommended_articles_id[:self.number_of_recommendations],news_articles['Headline'][recommended_articles_ind][:self.number_of_recommendations]\n"
   ]
  },
  {
   "cell_type": "code",
   "execution_count": 34,
   "metadata": {
    "colab": {},
    "colab_type": "code",
    "id": "QA5kA9i1cBiq"
   },
   "outputs": [],
   "source": [
    "cssr = Collaborative_Cosine_Similarity_Recommender(article_tfidf_matrix,user_data,news_articles,cleaned_articles)"
   ]
  },
  {
   "cell_type": "markdown",
   "metadata": {},
   "source": [
    "# Recommending via Collaborative filtering"
   ]
  },
  {
   "cell_type": "code",
   "execution_count": 35,
   "metadata": {
    "colab": {
     "base_uri": "https://localhost:8080/",
     "height": 243
    },
    "colab_type": "code",
    "id": "nijpCKu5pXfT",
    "outputId": "dc7bdf0b-bfc9-4b8a-b341-4878684c3081"
   },
   "outputs": [
    {
     "name": "stdout",
     "output_type": "stream",
     "text": [
      "6101320\n",
      "As you have liked this article\n",
      " Former Union Minister and BJP leader Dilip Gandhi passed away on Wednesday morning. He had tested positive for COVID-19 and was undergoing treatment at a hospital in Delhi. PM Narendra Modi expressed grief and said, \"He will be remembered for his rich contributions to community service and helping the poor. He made numerous efforts to strengthen the BJP in Maharashtra.\"\n",
      "\n",
      " here are some recommendations\n"
     ]
    },
    {
     "data": {
      "text/plain": [
       "(array([4223, 5910, 9525, 3350, 3356, 3355, 3354, 3353, 3352, 3351]),\n",
       " 4223    Former Union Minister and BJP leader Dilip Gan...\n",
       " 5910    The Lok Sabha on Wednesday passed the National...\n",
       " 9525    Madhya Pradesh BJP has sacked Vijay Tripathi f...\n",
       " 3350    As many as 43,846 new coronavirus cases have b...\n",
       " 3356    Speaking about the limited opportunities that ...\n",
       " 3355    Speaking about working with her 'Ishaqzaade' c...\n",
       " 3354    Interior designer Gauri Khan spoke about how s...\n",
       " 3353    Veteran Bollywood actress Sharmila Tagore rece...\n",
       " 3352    The Ashoka University board, Pratap Bhanu Meht...\n",
       " 3351    Ex-England captain Michael Vaughan has mocked ...\n",
       " Name: Headline, dtype: object)"
      ]
     },
     "execution_count": 35,
     "metadata": {},
     "output_type": "execute_result"
    }
   ],
   "source": [
    "user_id = list(set(user_data['user id']))\n",
    "userid = random.choice(user_id)   #choosing a user id\n",
    "print(userid)\n",
    "\n",
    "ids = user_data['user id'].values\n",
    "i = np.where(ids == userid)[0][0]\n",
    "art = user_data['article id'].values[i,]\n",
    "\n",
    "print ('As you have liked this article\\n', item(art))\n",
    "\n",
    "print ('\\n here are some recommendations')\n",
    "cssr = Collaborative_Cosine_Similarity_Recommender(article_tfidf_matrix,user_data,news_articles,cleaned_articles)\n",
    "cssr.recommend_articles(userid)\n"
   ]
  },
  {
   "cell_type": "markdown",
   "metadata": {},
   "source": [
    "# Recommending via Content based filtering"
   ]
  },
  {
   "cell_type": "code",
   "execution_count": 36,
   "metadata": {
    "scrolled": false
   },
   "outputs": [
    {
     "name": "stdout",
     "output_type": "stream",
     "text": [
      "4085\n",
      "Here are some recommendations\n",
      " President Ram Nath Kovind on Wednesday expressed his grief over the death of former Union Minister Dilip Gandhi, who had tested COVID-19 positive and was undergoing treatment at a Delhi hospital. \"He was a popular leader who always strived for the development of Ahmednagar and Maharashtra,\" the President tweeted. Gandhi was a three-time MP from Ahmednagar South Lok Sabha seat.\n",
      "7821\n",
      "Here are some recommendations\n",
      " PM Narendra Modi said that he's saddened by the demise of BJP's Lok Sabha MP from Madhya Pradesh's Khandwa Nandkumar Singh Chauhan. \"He'll be remembered for his contributions to Parliamentary proceedings, organisational skills and efforts to strengthen BJP across Madhya Pradesh,\" he tweeted. Chauhan had tested COVID-19 positive and was undergoing treatment in Gurugram's Medanta Hospital.\n",
      "4898\n",
      "Here are some recommendations\n",
      " Actress Shruti Haasan has expressed grief over the demise of Tamil film director SP Jananathan.  She tweeted, \"It is with the heaviest heart that we say good bye to SP Jananathan sir. It was a pleasure working with you.\" The National award-winning director passed away on Sunday morning while he was undergoing treatment in a Chennai hospital. \n",
      "7831\n",
      "Here are some recommendations\n",
      " BJP MP from Madhya Pradesh's Khandwa, Nandkumar Singh Chauhan, passed away in Medanta Hospital in Gurugram last night, ANI reported. The former Madhya Pradesh BJP chief had tested positive for COVID-19 earlier and was undergoing treatment here. Madhya Pradesh CM Shivraj Singh Chouhan tweeted, \"BJP has lost an ideal worker, skilled organiser, dedicated populist in Nandu Bhaiya. I am distressed.\"\n",
      "198\n",
      "Here are some recommendations\n",
      " Newborn twins have tested COVID-19 positive in Gujarat's Vadodara and are currently stable and being given supportive treatment in a hospital. They tested positive after being brought back to the hospital with severe diarrhoea and dehydration, 15 days after being discharged, an official of SSG Hospital said. She added that both parents of the babies had also tested positive.\n",
      "2571\n",
      "Here are some recommendations\n",
      " Maharashtra Social Justice Minister Dhananjay Munde on Tuesday tweeted that he has again tested positive for COVID-19. Earlier, Munde had tested positive for the virus last year in June as well. \"I request everyone who has come in contact with me in the last few days to get tested. There is nothing to worry about,\" the NCP leader said.\n",
      "5939\n",
      "Here are some recommendations\n",
      " Prime Minister Narendra Modi and Union Home Minister Amit Shah are part of BJP's list of 40 star campaigners for the first phase of Assam Assembly elections. BJP National President JP Nadda, Uttar Pradesh Chief Minister Yogi Adityanath and Defence Minister Rajnath Singh will also campaign for the party, along with several other union ministers and BJP chief ministers.\n",
      "4839\n",
      "Here are some recommendations\n",
      " Union Home Minister Amit Shah, who held a roadshow in West Bengal's Kharagpur on Sunday, said, \"With over 200 seats, BJP is going to form the government in Bengal under PM Narendra Modi's leadership.\" \"People of Bengal want a change,\" Shah added. State BJP President Dilip Ghosh and BJP National General Secretary Kailash Vijayvargiya also took part in the roadshow.\n",
      "5893\n",
      "Here are some recommendations\n",
      " Prime Minister Narendra Modi on Wednesday told BJP leaders to not skip the Budget session of Parliament at all. While addressing the BJP parliamentary meet, PM Modi also directed all the MPs and party workers to help eligible people get COVID-19 vaccines, Parliamentary Affairs Minister Pralhad Joshi said. The meeting was also attended by Finance Minister Nirmala Sitharaman.\n",
      "\n",
      "807\n",
      "Here are some recommendations\n",
      " Maharashtra Chief Minister Uddhav Thackeray's wife Rashmi Thackeray has been admitted to a hospital days after she tested positive for coronavirus. After complaining of weakness during isolation, she was moved to a private hospital, as per ANI. Her son and Maharashtra Minister Aaditya Thackeray had also tested positive for COVID-19. \n"
     ]
    }
   ],
   "source": [
    "for i in recommend(userid, 10):\n",
    "    article = item(i)\n",
    "    print (i)\n",
    "    print ('Here are some recommendations\\n', article)"
   ]
  },
  {
   "cell_type": "code",
   "execution_count": 37,
   "metadata": {},
   "outputs": [
    {
     "data": {
      "text/plain": [
       "6101320"
      ]
     },
     "execution_count": 37,
     "metadata": {},
     "output_type": "execute_result"
    }
   ],
   "source": [
    "userid"
   ]
  },
  {
   "cell_type": "code",
   "execution_count": null,
   "metadata": {},
   "outputs": [],
   "source": []
  }
 ],
 "metadata": {
  "colab": {
   "collapsed_sections": [],
   "name": "News_recommender_final.ipynb",
   "provenance": [],
   "toc_visible": true
  },
  "kernelspec": {
   "display_name": "Python 3",
   "language": "python",
   "name": "python3"
  },
  "language_info": {
   "codemirror_mode": {
    "name": "ipython",
    "version": 3
   },
   "file_extension": ".py",
   "mimetype": "text/x-python",
   "name": "python",
   "nbconvert_exporter": "python",
   "pygments_lexer": "ipython3",
   "version": "3.6.9"
  }
 },
 "nbformat": 4,
 "nbformat_minor": 1
}
